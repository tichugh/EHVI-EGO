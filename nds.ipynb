{
 "cells": [
  {
   "cell_type": "code",
   "execution_count": 1,
   "metadata": {},
   "outputs": [],
   "source": [
    "from pymoo.util.dominator import Dominator\n",
    "import numpy as np"
   ]
  },
  {
   "cell_type": "code",
   "execution_count": 2,
   "metadata": {},
   "outputs": [],
   "source": [
    "def fast_non_dominated_sort(F, **kwargs):\n",
    "    \n",
    "    \n",
    "    M = Dominator.calc_domination_matrix(F)\n",
    "\n",
    "    # calculate the dominance matrix\n",
    "    n = M.shape[0]\n",
    "\n",
    "    fronts = []\n",
    "\n",
    "    if n == 0:\n",
    "        return fronts\n",
    "\n",
    "    # final rank that will be returned\n",
    "    n_ranked = 0\n",
    "    ranked = np.zeros(n, dtype=int)\n",
    "\n",
    "    # for each individual a list of all individuals that are dominated by this one\n",
    "    is_dominating = [[] for _ in range(n)]\n",
    "\n",
    "    # storage for the number of solutions dominated this one\n",
    "    n_dominated = np.zeros(n)\n",
    "\n",
    "    current_front = []\n",
    "\n",
    "    for i in range(n):\n",
    "\n",
    "        for j in range(i + 1, n):\n",
    "            rel = M[i, j]\n",
    "            if rel == 1:\n",
    "                is_dominating[i].append(j)\n",
    "                n_dominated[j] += 1\n",
    "            elif rel == -1:\n",
    "                is_dominating[j].append(i)\n",
    "                n_dominated[i] += 1\n",
    "\n",
    "        if n_dominated[i] == 0:\n",
    "            current_front.append(i)\n",
    "            ranked[i] = 1.0\n",
    "            n_ranked += 1\n",
    "\n",
    "    # append the first front to the current front\n",
    "    fronts.append(current_front)\n",
    "\n",
    "    # while not all solutions are assigned to a pareto front\n",
    "    while n_ranked < n:\n",
    "\n",
    "        next_front = []\n",
    "\n",
    "        # for each individual in the current front\n",
    "        for i in current_front:\n",
    "\n",
    "            # all solutions that are dominated by this individuals\n",
    "            for j in is_dominating[i]:\n",
    "                n_dominated[j] -= 1\n",
    "                if n_dominated[j] == 0:\n",
    "                    next_front.append(j)\n",
    "                    ranked[j] = 1.0\n",
    "                    n_ranked += 1\n",
    "\n",
    "        fronts.append(next_front)\n",
    "        current_front = next_front\n",
    "\n",
    "    return fronts"
   ]
  }
 ],
 "metadata": {
  "kernelspec": {
   "display_name": "Python 3",
   "language": "python",
   "name": "python3"
  },
  "language_info": {
   "codemirror_mode": {
    "name": "ipython",
    "version": 3
   },
   "file_extension": ".py",
   "mimetype": "text/x-python",
   "name": "python",
   "nbconvert_exporter": "python",
   "pygments_lexer": "ipython3",
   "version": "3.8.5"
  }
 },
 "nbformat": 4,
 "nbformat_minor": 4
}
